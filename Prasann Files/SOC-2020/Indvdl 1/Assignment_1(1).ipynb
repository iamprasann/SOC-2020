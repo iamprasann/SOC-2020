{
  "nbformat": 4,
  "nbformat_minor": 0,
  "metadata": {
    "colab": {
      "name": "Assignment-1.ipynb",
      "provenance": [],
      "collapsed_sections": []
    },
    "kernelspec": {
      "name": "python3",
      "display_name": "Python 3"
    }
  },
  "cells": [
    {
      "cell_type": "code",
      "metadata": {
        "id": "iqIu2mFxfEsF",
        "colab_type": "code",
        "outputId": "ee46f7e9-9fba-461e-ae11-2cf417bfa174",
        "colab": {
          "base_uri": "https://localhost:8080/",
          "height": 313
        }
      },
      "source": [
        "from random import randint \n",
        "from matplotlib import pyplot as plt\n",
        "import numpy as np\n",
        "\n",
        "for t in range(1): \n",
        "  \n",
        "  arr=[0]*10000\n",
        "  ones=[1]\n",
        "  n=0\n",
        "\n",
        "  arr[5000]=1\n",
        "\n",
        "  while(True):\n",
        "    for i in range(10000):\n",
        "     if(arr[i]==1):\n",
        "        if(randint(0,19)<7):\n",
        "          arr[abs(i-1)]=1\n",
        "        if(randint(0,19)<7):\n",
        "          arr[(i+1)%10000]=1\n",
        "\n",
        "    set=np.random.randint(0, 9999, 10)\n",
        "    for i in range(5):\n",
        "      arr[set[i]]=arr[set[i]]+arr[set[i+5]]\n",
        "      arr[set[i+5]]=arr[set[i]]-arr[set[i+5]]\n",
        "      arr[set[i]]=arr[set[i]]-arr[set[i+5]]\n",
        "\n",
        "    n=n+1\n",
        "\n",
        "    ones.append(0)\n",
        "    \n",
        "    for i in range(10000):\n",
        "      if(arr[i]==1):\n",
        "       ones[n]=ones[n]+1\n",
        "\n",
        "    if(ones[n]==10000):\n",
        "      break\n",
        "\n",
        "  x=[1]\n",
        "  for i in range(n):\n",
        "    x.append(i+1)\n",
        "\n",
        "  plt.plot(x, ones)\n",
        "  plt.xlabel(\"#iteration\")\n",
        "  plt.ylabel(\"ones\")\n",
        "  plt.show()\n",
        "  print(n, \"iterations needed\")\n",
        "  plt.savefig(\"SoC-Plot1-Prasann.jpg\")\n",
        "  \n",
        "\n",
        "\n"
      ],
      "execution_count": 0,
      "outputs": [
        {
          "output_type": "display_data",
          "data": {
            "image/png": "[encoded data removed]",
            "text/plain": [
              "<Figure size 432x288 with 1 Axes>"
            ]
          },
          "metadata": {
            "tags": []
          }
        },
        {
          "output_type": "stream",
          "text": [
            "356 iterations needed\n"
          ],
          "name": "stdout"
        },
        {
          "output_type": "display_data",
          "data": {
            "text/plain": [
              "<Figure size 432x288 with 0 Axes>"
            ]
          },
          "metadata": {
            "tags": []
          }
        }
      ]
    }
  ]
}
