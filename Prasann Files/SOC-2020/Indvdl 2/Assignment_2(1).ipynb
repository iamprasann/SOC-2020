{
  "nbformat": 4,
  "nbformat_minor": 0,
  "metadata": {
    "colab": {
      "name": "Assignment_2.ipynb",
      "provenance": []
    },
    "kernelspec": {
      "name": "python3",
      "display_name": "Python 3"
    }
  },
  "cells": [
    {
      "cell_type": "code",
      "metadata": {
        "id": "VH7-0M6j0C30",
        "colab_type": "code",
        "colab": {
          "base_uri": "https://localhost:8080/",
          "height": 313
        },
        "outputId": "e3c390a9-5a23-4901-84f7-796565446ad6"
      },
      "source": [
        "from random import randint \n",
        "from matplotlib import pyplot as plt\n",
        "import numpy as np\n",
        "from scipy.signal import savgol_filter\n",
        "\n",
        "for t in range(1): \n",
        "  \n",
        "  arr=np.zeros([120,125], dtype=int)\n",
        "  ones=[1]\n",
        "  n=0\n",
        "\n",
        "  arr[59, 62]=1\n",
        "\n",
        "  while(True):\n",
        "    for i in range(120):\n",
        "      for j in range(125):\n",
        "        if(arr[i, j]==1):\n",
        "          for p in range(3):\n",
        "            for q in range(3):\n",
        "              if(randint(0, 3)<1):\n",
        "                arr[abs(i-1+p)%120, abs(j-1+q)%125]\n",
        "          for r in range(5):\n",
        "            if(randint(0,24)<2):\n",
        "              arr[abs(i-2), abs(j-2+r)%125]=1\n",
        "            if(randint(0,24)<2):\n",
        "              arr[(i+2)%120, abs(j-2+r)%125]=1\n",
        "          for r in range(3):\n",
        "            if(randint(0, 24)<2):\n",
        "              arr[abs(i-1+r)%120, abs(j-2)]=1\n",
        "            if(randint(0, 24)<2):\n",
        "              arr[abs(i-1+r)%120, (j+2)%125]=1\n",
        "\n",
        "    seti=np.random.randint(0, 119, 16)\n",
        "    setj=np.random.randint(0, 124, 16)\n",
        "    for i in range(8):\n",
        "      arr[seti[i], setj[i]]=arr[seti[i], setj[i]]+arr[seti[i+8], setj[i+8]]\n",
        "      arr[seti[i+8], setj[i+8]]=arr[seti[i], setj[i]]-arr[seti[i+8], setj[i+8]]\n",
        "      arr[seti[i], setj[i]]=arr[seti[i], setj[i]]-arr[seti[i+8], setj[i+8]]\n",
        "\n",
        "    n=n+1\n",
        "\n",
        "    ones.append(0)\n",
        "    \n",
        "    for i in range(120):\n",
        "      for j in range(125):\n",
        "        if(arr[i][j]==1):\n",
        "          ones[n]=ones[n]+1\n",
        "\n",
        "    if(ones[n]==15000):\n",
        "      break\n",
        "\n",
        "  x=[1]\n",
        "  for i in range(n):\n",
        "    x.append(i+1)\n",
        "\n",
        "  plt.plot(x, ones)\n",
        "  plt.xlabel(\"#iteration\")\n",
        "  plt.ylabel(\"ones\")\n",
        "  plt.show()\n",
        "  print(n, \"iterations needed\")\n",
        "  plt.savefig(\"SoC-Assgn2-Plot-1-Prasann.jpg\")"
      ],
      "execution_count": 9,
      "outputs": [
        {
          "output_type": "display_data",
          "data": {
            "image/png": "[encoded data removed]",
            "text/plain": [
              "<Figure size 432x288 with 1 Axes>"
            ]
          },
          "metadata": {
            "tags": []
          }
        },
        {
          "output_type": "stream",
          "text": [
            "32 iterations needed\n"
          ],
          "name": "stdout"
        },
        {
          "output_type": "display_data",
          "data": {
            "text/plain": [
              "<Figure size 432x288 with 0 Axes>"
            ]
          },
          "metadata": {
            "tags": []
          }
        }
      ]
    }
  ]
}
