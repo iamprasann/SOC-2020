{
  "nbformat": 4,
  "nbformat_minor": 0,
  "metadata": {
    "colab": {
      "name": "Untitled",
      "provenance": []
    },
    "kernelspec": {
      "name": "python3",
      "display_name": "Python 3"
    }
  },
  "cells": [
    {
      "cell_type": "code",
      "metadata": {
        "id": "66g5jmPxw7Hz",
        "colab_type": "code",
        "outputId": "9c04f8a3-45ad-43eb-a777-4047ba9bbecc",
        "colab": {
          "base_uri": "https://localhost:8080/",
          "height": 101
        }
      },
      "source": [
        "import numpy as np\n",
        "\n",
        "#Using sigmoid because mainstream is bae\n",
        "\n",
        "def f(x):\n",
        "    return 1/(1+np.exp(-x))\n",
        "def der(t):\n",
        "    return (f(t))*(1-f(t))\n",
        "\n",
        "ip = np.array([[1,0,1],[0,0,1],[1,1,0],[1,1,1]])\n",
        "\n",
        "op = np.array([[1,0,1,1]]).T\n",
        "\n",
        "w = np.random.random((3, 1))\n",
        "\n",
        "for i in range(1000):      #Assuming 1000 iterations is enough to converge accurately\n",
        "\n",
        "    input = ip\n",
        "    output = f(np.dot(input, w))\n",
        "    revamp = (op-output) * der(output)\n",
        "    w += np.dot(input.T, revamp)\n",
        "\n",
        "print(f\"Weights after training \\n{output}\")\n"
      ],
      "execution_count": 9,
      "outputs": [
        {
          "output_type": "stream",
          "text": [
            "Weights after training: \n",
            "[[0.99905398]\n",
            " [0.00119831]\n",
            " [0.99999992]\n",
            " [0.99993238]]\n"
          ],
          "name": "stdout"
        }
      ]
    }
  ]
}