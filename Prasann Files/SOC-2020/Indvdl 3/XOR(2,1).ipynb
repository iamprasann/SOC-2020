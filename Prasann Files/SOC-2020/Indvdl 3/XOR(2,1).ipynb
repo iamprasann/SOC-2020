{
  "nbformat": 4,
  "nbformat_minor": 0,
  "metadata": {
    "colab": {
      "name": "XOR(2,1).ipynb",
      "provenance": [],
      "collapsed_sections": []
    },
    "kernelspec": {
      "name": "python3",
      "display_name": "Python 3"
    }
  },
  "cells": [
    {
      "cell_type": "code",
      "metadata": {
        "id": "nECNJ8YmmCJi",
        "colab_type": "code",
        "outputId": "7d2b0c7b-93ac-4706-c752-5bc8605555df",
        "colab": {
          "base_uri": "https://localhost:8080/",
          "height": 101
        }
      },
      "source": [
        "import numpy as np\n",
        "\n",
        "#Using sigmoid because mainstream is bae\n",
        "\n",
        "def f(x):\n",
        "    return 1/(1+np.exp(-x))\n",
        "def der(t):\n",
        "    return (f(t))*(1-f(t))\n",
        "\n",
        "#XOR data\n",
        "ip = np.array([[0,0],[0,1],[1,0],[1,1]])\n",
        "op = np.array([[0],[1],[1],[0]])\n",
        "\n",
        "w = np.random.random((2, 1))\n",
        "\n",
        "for i in range(1000):      #Assuming 1000 iterations is enough to converge accurately\n",
        "\n",
        "    input = ip\n",
        "    output = f(np.dot(input, w))\n",
        "    revamp = (op-output) * der(output)\n",
        "    w += np.dot(input.T, revamp)\n",
        "\n",
        "print(f\"Weights after training \\n{output}\")"
      ],
      "execution_count": 23,
      "outputs": [
        {
          "output_type": "stream",
          "text": [
            "Weights after training \n",
            "[[0.5]\n",
            " [0.5]\n",
            " [0.5]\n",
            " [0.5]]\n"
          ],
          "name": "stdout"
        }
      ]
    }
  ]
}