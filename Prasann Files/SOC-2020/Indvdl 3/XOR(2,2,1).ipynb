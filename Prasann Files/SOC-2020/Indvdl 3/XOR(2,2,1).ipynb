{
  "nbformat": 4,
  "nbformat_minor": 0,
  "metadata": {
    "colab": {
      "name": "XOR(2,2,1).ipynb",
      "provenance": []
    },
    "kernelspec": {
      "name": "python3",
      "display_name": "Python 3"
    }
  },
  "cells": [
    {
      "cell_type": "code",
      "metadata": {
        "id": "nECNJ8YmmCJi",
        "colab_type": "code",
        "outputId": "5c271061-356a-4f69-e67b-217bfa83a092",
        "colab": {
          "base_uri": "https://localhost:8080/",
          "height": 134
        }
      },
      "source": [
        "import numpy as np \n",
        "\n",
        "#Once again sigmoid cuz mainstream is bae\n",
        "def f(x):                     \n",
        "    return 1/(1 + np.exp(-x))\n",
        "\n",
        "def der(x):\n",
        "    return x * (1 - x)\n",
        "\n",
        "#XOR data\n",
        "ip = np.array([[0,0],[0,1],[1,0],[1,1]])\n",
        "op_expect = np.array([[0],[1],[1],[0]])\n",
        "\n",
        "#Learning rate\n",
        "alpha=0.1\n",
        "#Input layer, Hidden Layer, Output layer (Structure of NN)\n",
        "ilh, hlh, olh = 2,2,1 \n",
        "\n",
        "#Random weights and bias initialization\n",
        "hlw = np.random.random(size=(ilh,hlh))\n",
        "hlb = np.random.random(size=(1,hlh))\n",
        "olw = np.random.random(size=(hlh,olh))\n",
        "olb = np.random.random(size=(1,olh))\n",
        "\n",
        "#MA106+MA105\n",
        "for _ in range(1000):\n",
        "\t\n",
        "\t#FeedForward\n",
        "\thlo=f((np.dot(ip, hlw))+hlb)\n",
        "\top_predict=f((np.dot(hlo, olw))+olb)\n",
        "\n",
        "  #Backpropagation\n",
        "\terror_op = op_expect - op_predict\n",
        "\tdop = error_op * der(op_predict)\n",
        "\t\n",
        "\terror_hl = dop.dot(olw.T)\n",
        "\tdhl = error_hl * der(hlo)\n",
        "\n",
        "\t#Updating Weights and Biases\n",
        "\tolw += hlo.T.dot(dop)*alpha\n",
        "\tolb += alpha*(np.sum(dop,axis=0,keepdims=True)) \n",
        "\thlw += ip.T.dot(dhl)*alpha\n",
        "\thlb += alpha*(np.sum(dhl,axis=0,keepdims=True))\n",
        "\n",
        "print(\"Final hidden weights: \",end='')\n",
        "print(*hlw)\n",
        "print(\"Final hidden bias: \",end='')\n",
        "print(*hlb)\n",
        "print(\"Final output weights: \",end='')\n",
        "print(*olw)\n",
        "print(\"Final output bias: \",end='')\n",
        "print(*olb)\n",
        "\n",
        "print(\"\\nOutput from neural network after n iterations: \")\n",
        "print(*predicted_output)"
      ],
      "execution_count": 11,
      "outputs": [
        {
          "output_type": "stream",
          "text": [
            "Final hidden weights: [0.4693053  0.60685671] [1.01884228 0.53206013]\n",
            "Final hidden bias: [0.25862435 0.57072519]\n",
            "Final output weights: [0.24234473] [0.27306129]\n",
            "Final output bias: [-0.36826362]\n",
            "\n",
            "Output from neural network after n iterations: \n",
            "[0.05952792] [0.94300533] [0.94302993] [0.06277077]\n"
          ],
          "name": "stdout"
        }
      ]
    }
  ]
}